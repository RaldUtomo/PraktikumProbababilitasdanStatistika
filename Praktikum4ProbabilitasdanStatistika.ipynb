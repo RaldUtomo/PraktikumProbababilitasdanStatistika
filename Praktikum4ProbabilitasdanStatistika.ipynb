{
 "cells": [
  {
   "cell_type": "code",
   "execution_count": 1,
   "id": "0e52796b",
   "metadata": {},
   "outputs": [
    {
     "name": "stdout",
     "output_type": "stream",
     "text": [
      "probabilitas P(X=k) untuk distribusi binominal: 0.1171875\n"
     ]
    }
   ],
   "source": [
    "import math\n",
    "\n",
    "# Fungsi untuk menghitung kombinasi (n choose k)\n",
    "def n_choose_k(n,k):\n",
    "    return math.factorial(n) / (math.factorial(k) * math.factorial(n - k) )\n",
    "\n",
    "# Fungsi untuk menghitung probabilitas P(x=k) Dalam distribusi binominal\n",
    "def binominal_probability(n, k, p):\n",
    "    return n_choose_k(n, k) * (p ** k) * ((1-p) ** (n -k))\n",
    "\n",
    "# Parameter distribusi binominal\n",
    "n = 10 # jumlah percobaan\n",
    "p = 0.5 # probabilitas keberhasilan dalam satu percobaan\n",
    "k = 3 # jumlah keberhasilan yang dinginkan \n",
    "\n",
    "# Menghitung probabilitas P(x=k) untuk distribusi binominal\n",
    "prob_binominal = binominal_probability(n, k, p)\n",
    "print(\"probabilitas P(X=k) untuk distribusi binominal:\", prob_binominal)"
   ]
  },
  {
   "cell_type": "code",
   "execution_count": 2,
   "id": "b4359f5c",
   "metadata": {},
   "outputs": [
    {
     "name": "stdout",
     "output_type": "stream",
     "text": [
      "probabilitas P(X=k) untuk distribusi binomial:, prob_binomial\n"
     ]
    }
   ],
   "source": [
    "from scipy.stats import binom\n",
    "\n",
    "# Distribusi Binominal\n",
    "n = 10 # jumlah percobaan\n",
    "p = 0.5 # probabilitas keberhasilann dalam satu percobaan\n",
    "k = 3 # jumlah keberhasilan yang diinginkan\n",
    "\n",
    "prob_binomial = binom.pmf(k, n, p)\n",
    "print(\"probabilitas P(X=k) untuk distribusi binomial:, prob_binomial\")"
   ]
  },
  {
   "cell_type": "code",
   "execution_count": 3,
   "id": "be388a1c",
   "metadata": {},
   "outputs": [
    {
     "name": "stdout",
     "output_type": "stream",
     "text": [
      "Probabilitas P(X=k) untuk distribusi Poisson: 0.22404180765538775\n"
     ]
    }
   ],
   "source": [
    "import math\n",
    "\n",
    "# Fungsi untuk menghitung probabilitas P(X=k) dalam distribusi Poisson\n",
    "def poisson_probability(lambd, k):\n",
    "    return (lambd ** k) * math.exp(-lambd) / math.factorial(k)\n",
    "\n",
    "# Parameter distribusi Poisson\n",
    "lambd = 3  # rata-rata jumlah peristiwa dalam interval waktu/titik\n",
    "k = 2  # jumlah peristiwa yang diinginkan\n",
    "\n",
    "# Menghitung probabilitas P(X=k) untuk distribusi Poisson\n",
    "prob_poisson = poisson_probability(lambd, k)\n",
    "print(\"Probabilitas P(X=k) untuk distribusi Poisson:\", prob_poisson)"
   ]
  },
  {
   "cell_type": "code",
   "execution_count": 4,
   "id": "3818ba49",
   "metadata": {},
   "outputs": [
    {
     "name": "stdout",
     "output_type": "stream",
     "text": [
      "probabilitas P(X=k) untuk distribusi poisson:, prob_poisson\n"
     ]
    }
   ],
   "source": [
    "from scipy.stats import poisson\n",
    "\n",
    "lambd = 3\n",
    "k = 2\n",
    "\n",
    "prob_poisson = poisson.pmf(k, lambd)\n",
    "print(\"probabilitas P(X=k) untuk distribusi poisson:, prob_poisson\")"
   ]
  },
  {
   "cell_type": "code",
   "execution_count": 5,
   "id": "53fb48ac",
   "metadata": {},
   "outputs": [
    {
     "name": "stdout",
     "output_type": "stream",
     "text": [
      "0.1285054390988551\n"
     ]
    }
   ],
   "source": [
    "from scipy import stats\n",
    "X = stats.binom(15, 0.1)\n",
    "print(X.pmf(3))      # P(X = 3)"
   ]
  },
  {
   "cell_type": "code",
   "execution_count": 6,
   "id": "5930d400",
   "metadata": {},
   "outputs": [
    {
     "name": "stdout",
     "output_type": "stream",
     "text": [
      "0.8159389308936089\n"
     ]
    }
   ],
   "source": [
    "print(X.cdf(2))   # P(X <= 2)"
   ]
  },
  {
   "cell_type": "code",
   "execution_count": 7,
   "id": "02679a30",
   "metadata": {},
   "outputs": [
    {
     "name": "stdout",
     "output_type": "stream",
     "text": [
      "0.002216045197080002\n"
     ]
    }
   ],
   "source": [
    "print(X.pmf(6)+X.pmf(7))"
   ]
  },
  {
   "cell_type": "code",
   "execution_count": 8,
   "id": "41fc6f63",
   "metadata": {},
   "outputs": [
    {
     "name": "stdout",
     "output_type": "stream",
     "text": [
      "0.17546736976785063\n"
     ]
    }
   ],
   "source": [
    "from scipy import stats\n",
    "Y = stats.poisson(5)\n",
    "print(Y.pmf(4))   # P(Y = 4)"
   ]
  },
  {
   "cell_type": "code",
   "execution_count": 9,
   "id": "a0f253c7",
   "metadata": {},
   "outputs": [
    {
     "name": "stdout",
     "output_type": "stream",
     "text": [
      "0.17886305056987967\n"
     ]
    }
   ],
   "source": [
    "from scipy import stats\n",
    "\n",
    "# Mendefinisikan variabel X sebagai distribusi binomial dengan 15 percobaan dan probabilitaas sukses 0.1\n",
    "X = stats.binom(20, 0.7)\n",
    "\n",
    "# Menghitung probabilitas massa X sama dengan 3\n",
    "pmf_15 = X.pmf(15)\n",
    "\n",
    "# Menghitung nilai probabilitas\n",
    "print(pmf_15)"
   ]
  },
  {
   "cell_type": "code",
   "execution_count": 10,
   "id": "86698bf8",
   "metadata": {},
   "outputs": [
    {
     "name": "stdout",
     "output_type": "stream",
     "text": [
      "0.18044704431548356\n"
     ]
    }
   ],
   "source": [
    "from scipy import stats\n",
    "Y = stats.poisson(2)\n",
    "\n",
    "print(Y.pmf(3))    # \\(P(Y = 3)\\)"
   ]
  },
  {
   "cell_type": "code",
   "execution_count": null,
   "id": "5f6766ce",
   "metadata": {},
   "outputs": [],
   "source": []
  }
 ],
 "metadata": {
  "kernelspec": {
   "display_name": "Python 3 (ipykernel)",
   "language": "python",
   "name": "python3"
  },
  "language_info": {
   "codemirror_mode": {
    "name": "ipython",
    "version": 3
   },
   "file_extension": ".py",
   "mimetype": "text/x-python",
   "name": "python",
   "nbconvert_exporter": "python",
   "pygments_lexer": "ipython3",
   "version": "3.11.4"
  }
 },
 "nbformat": 4,
 "nbformat_minor": 5
}
