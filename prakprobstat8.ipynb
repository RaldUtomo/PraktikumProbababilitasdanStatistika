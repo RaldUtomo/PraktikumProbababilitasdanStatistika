{
 "cells": [
  {
   "cell_type": "code",
   "execution_count": 1,
   "id": "826e2954",
   "metadata": {},
   "outputs": [
    {
     "name": "stdout",
     "output_type": "stream",
     "text": [
      "Chi-Square Statistic: 0.1873409923409925\n",
      "P-value: 0.999872291854867\n",
      "Degrees of Freedom: 6\n",
      "Expected Frequencies:\n",
      "[[ 8.10810811 21.62162162 14.86486486  5.40540541]\n",
      " [10.54054054 28.10810811 19.32432432  7.02702703]\n",
      " [11.35135135 30.27027027 20.81081081  7.56756757]]\n",
      "Gagal Tolak H0: Tidak terdapat hubungan antara kecukupan tidur dan kekuatan gowes.\n"
     ]
    }
   ],
   "source": [
    "import numpy as np\n",
    "from scipy.stats import chi2_contingency\n",
    "\n",
    "# Data dari tabel\n",
    "data = np.array([[8, 22, 15, 5],\n",
    "                 [10, 28, 20, 7],\n",
    "                 [12, 30, 20, 8]])\n",
    "\n",
    "# Menghitung chi-kuadrat\n",
    "chi2, p, dof, expected = chi2_contingency(data)\n",
    "\n",
    "# Menampilkan hasil\n",
    "print(f\"Chi-Square Statistic: {chi2}\")\n",
    "print(f\"P-value: {p}\")\n",
    "print(f\"Degrees of Freedom: {dof}\")\n",
    "print(\"Expected Frequencies:\")\n",
    "print(expected)\n",
    "\n",
    "# Menentukan keputusan\n",
    "alpha = 0.01\n",
    "if p < alpha:\n",
    "    print(\"Tolak H0: Terdapat hubungan antara kecukupan tidur dan kekuatan gowes.\")\n",
    "else:\n",
    "    print(\"Gagal Tolak H0: Tidak terdapat hubungan antara kecukupan tidur dan kekuatan gowes.\")\n"
   ]
  },
  {
   "cell_type": "code",
   "execution_count": 2,
   "id": "a70ed78d",
   "metadata": {},
   "outputs": [
    {
     "name": "stdout",
     "output_type": "stream",
     "text": [
      "Statistik Uji Kolmogorov-Smirnov: 0.18805925481308217\n",
      "p-value: 0.5606487063640894\n",
      "Data berdistribusi normal (gagal menolak H0)\n"
     ]
    }
   ],
   "source": [
    "import numpy as np\n",
    "from scipy import stats\n",
    "\n",
    "# Data sampel nilai dari 15 mahasiswa\n",
    "data = [904, 920, 973, 1001, 1002, 1002, 1012, 1016, 1039, 1086, 1140, 1146, 1168, 1233, 1255, 1348]\n",
    "\n",
    "# Melakukan Uji Kolmogorov-Smirnov\n",
    "stat, p_value = stats.kstest(data, 'norm', args=(np.mean(data), np.std(data, ddof=1)))\n",
    "\n",
    "print(\"Statistik Uji Kolmogorov-Smirnov:\", stat)\n",
    "print(\"p-value:\", p_value)\n",
    "\n",
    "# Menentukan apakah data berdistribusi normal atau tidak\n",
    "alpha = 0.05\n",
    "if p_value > alpha:\n",
    "    print(\"Data berdistribusi normal (gagal menolak H0)\")\n",
    "else:\n",
    "    print(\"Data tidak berdistribusi normal (menolak H0)\")\n",
    "\n",
    "    "
   ]
  },
  {
   "cell_type": "code",
   "execution_count": 4,
   "id": "9059d8b3",
   "metadata": {},
   "outputs": [
    {
     "name": "stdout",
     "output_type": "stream",
     "text": [
      "Chi-Square Statistic: 18.36653293796151\n",
      "P-value: 0.03115152701189931\n",
      "Degrees of Freedom: 9\n",
      "Expected Frequencies:\n",
      "[[  7.54  10.15  11.31  29.  ]\n",
      " [  9.36  12.6   14.04  36.  ]\n",
      " [  9.1   12.25  13.65  35.  ]\n",
      " [ 26.    35.    39.   100.  ]]\n",
      "Tolak H0: Terdapat hubungan antara kecukupan tidur dan kekuatan gowes.\n"
     ]
    }
   ],
   "source": [
    "import numpy as np \n",
    "from scipy.stats import chi2_contingency \n",
    " \n",
    "# Data baru dari tabel \n",
    "data_baru = np.array([[14, 6, 9, 29], \n",
    "                      [10, 16, 10, 36], \n",
    "                      [2, 13, 20, 35], \n",
    "                      [26, 35, 39, 100]]) \n",
    " \n",
    "# Menghitung chi-kuadrat \n",
    "chi2, p, dof, expected = chi2_contingency(data_baru) \n",
    " \n",
    "# Menampilkan hasil \n",
    "print(f\"Chi-Square Statistic: {chi2}\") \n",
    "print(f\"P-value: {p}\") \n",
    "print(f\"Degrees of Freedom: {dof}\") \n",
    "print(\"Expected Frequencies:\") \n",
    "print(expected) \n",
    "\n",
    "# Menentukan keputusan \n",
    "alpha = 0.05 \n",
    "if p < alpha: \n",
    "    print(\"Tolak H0: Terdapat hubungan antara kecukupan tidur dan kekuatan gowes.\") \n",
    "else: \n",
    "    print(\"Gagal Tolak H0: Tidak terdapat hubungan antara kecukupan tidur dan kekuatan gowes.\") "
   ]
  },
  {
   "cell_type": "code",
   "execution_count": 5,
   "id": "43ef8c26",
   "metadata": {},
   "outputs": [
    {
     "name": "stdout",
     "output_type": "stream",
     "text": [
      "Statistik Uji Kolmogorov-Smirnov: 0.18719291305040942\n",
      "p-value: 0.6043842954060732\n",
      "Data berdistribusi normal (gagal menolak H0)\n"
     ]
    }
   ],
   "source": [
    "import numpy as np \n",
    "from scipy import stats\n",
    "\n",
    "# Data sampel nilai dari 100 individu \n",
    "data = [8, 11, 12, 22, 24, 25, 33, 34, 34, 43, 45, 45, 67, 67, 99] \n",
    "\n",
    "# Melakukan Uji Kolmogorov-Smirnov \n",
    "stat, p_value = stats.kstest(data, 'norm', args=(np.mean(data), np.std(data, \n",
    "ddof=1))) \n",
    "print(\"Statistik Uji Kolmogorov-Smirnov:\", stat) \n",
    "print(\"p-value:\", p_value) \n",
    "\n",
    "# Menentukan apakah data berdistribusi normal atau tidak\n",
    "alpha = 0.05 \n",
    "if p_value > alpha: \n",
    "    print(\"Data berdistribusi normal (gagal menolak H0)\") \n",
    "else: \n",
    "    print(\"Data tidak berdistribusi normal (menolak H0)\") "
   ]
  },
  {
   "cell_type": "code",
   "execution_count": null,
   "id": "32de66e2",
   "metadata": {},
   "outputs": [],
   "source": []
  }
 ],
 "metadata": {
  "kernelspec": {
   "display_name": "Python 3 (ipykernel)",
   "language": "python",
   "name": "python3"
  },
  "language_info": {
   "codemirror_mode": {
    "name": "ipython",
    "version": 3
   },
   "file_extension": ".py",
   "mimetype": "text/x-python",
   "name": "python",
   "nbconvert_exporter": "python",
   "pygments_lexer": "ipython3",
   "version": "3.11.4"
  }
 },
 "nbformat": 4,
 "nbformat_minor": 5
}
